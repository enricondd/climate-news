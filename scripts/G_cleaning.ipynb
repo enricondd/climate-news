{
 "cells": [
  {
   "cell_type": "markdown",
   "id": "03efac02",
   "metadata": {},
   "source": [
    "# Clean articles"
   ]
  },
  {
   "cell_type": "markdown",
   "id": "198ee95d",
   "metadata": {},
   "source": [
    "## Initialize Cleaning"
   ]
  },
  {
   "cell_type": "markdown",
   "id": "7138082b-80dd-4607-97a2-8d5d1c70d8fe",
   "metadata": {},
   "source": [
    "### Import Packages and Raw_data"
   ]
  },
  {
   "cell_type": "code",
   "execution_count": 1,
   "id": "819a34c1-9a8e-43cc-b34d-c49938ede945",
   "metadata": {},
   "outputs": [
    {
     "name": "stdout",
     "output_type": "stream",
     "text": [
      "<class 'pandas.core.frame.DataFrame'>\n",
      "RangeIndex: 32726 entries, 0 to 32725\n",
      "Data columns (total 17 columns):\n",
      " #   Column              Non-Null Count  Dtype \n",
      "---  ------              --------------  ----- \n",
      " 0   id                  32726 non-null  object\n",
      " 1   type                32726 non-null  object\n",
      " 2   sectionId           32726 non-null  object\n",
      " 3   sectionName         32726 non-null  object\n",
      " 4   webPublicationDate  32726 non-null  object\n",
      " 5   webTitle            32726 non-null  object\n",
      " 6   webUrl              32726 non-null  object\n",
      " 7   apiUrl              32726 non-null  object\n",
      " 8   fields              32726 non-null  object\n",
      " 9   tags                32726 non-null  object\n",
      " 10  references          32726 non-null  object\n",
      " 11  blocks              32726 non-null  object\n",
      " 12  rights              32726 non-null  object\n",
      " 13  section             32708 non-null  object\n",
      " 14  isHosted            32726 non-null  bool  \n",
      " 15  pillarId            32485 non-null  object\n",
      " 16  pillarName          32485 non-null  object\n",
      "dtypes: bool(1), object(16)\n",
      "memory usage: 4.0+ MB\n"
     ]
    }
   ],
   "source": [
    "import pandas as pd\n",
    "from functools import wraps\n",
    "import datetime as dt\n",
    "import numpy as np\n",
    "\n",
    "raw_file_name = \"G_2022_climate_raw\"\n",
    "cleaned_file_name = \"G_2022_climate_clean\" \n",
    "\n",
    "init_df = pd.read_csv(f\"../../data/raw/{raw_file_name}.csv\")\n",
    "# init_df = pd.read_csv(f\"../../data/raw/{raw_file_name}.csv.zip\", compression=\"zip\")\n",
    "init_df.info()"
   ]
  },
  {
   "cell_type": "markdown",
   "id": "988110a7-0c79-4798-96b6-02dcba2dee2d",
   "metadata": {},
   "source": [
    "### Logging"
   ]
  },
  {
   "cell_type": "code",
   "execution_count": 2,
   "id": "6620dfdd-fcd1-423d-b5ae-9aaa69c5703e",
   "metadata": {},
   "outputs": [],
   "source": [
    "def log_step(func):\n",
    "    @wraps(func)\n",
    "    def wrapper(*args, **kwargs):\n",
    "        tic = dt.datetime.now()\n",
    "        result = func(*args, **kwargs)\n",
    "        time_taken = str(dt.datetime.now() - tic)\n",
    "        print(f\"{func.__name__}:\\n shape={result.shape} took {time_taken}s\\n\")\n",
    "        return result\n",
    "\n",
    "    return wrapper"
   ]
  },
  {
   "cell_type": "markdown",
   "id": "94d42427-88df-45f3-bba6-9abf1d93f9ed",
   "metadata": {},
   "source": [
    "## Pipeline - Functions"
   ]
  },
  {
   "cell_type": "markdown",
   "id": "66726894-88a8-4102-9977-a77a43c6d592",
   "metadata": {},
   "source": [
    "### Start Pipeline"
   ]
  },
  {
   "cell_type": "code",
   "execution_count": 3,
   "id": "aab6744b-d4cd-40a8-b71c-6e38fd5e272c",
   "metadata": {},
   "outputs": [],
   "source": [
    "@log_step\n",
    "def init_pipeline(df):\n",
    "    return df.copy()"
   ]
  },
  {
   "cell_type": "markdown",
   "id": "6e39b240",
   "metadata": {},
   "source": [
    "### Unfold Columns"
   ]
  },
  {
   "cell_type": "code",
   "execution_count": null,
   "id": "83a96f38",
   "metadata": {},
   "outputs": [],
   "source": [
    "@log_step\n",
    "def unfold_columns(df):\n",
    "    dict_cols = [\"fields\", \"rights\"] \n",
    "    for col in dict_cols:\n",
    "        new_df = pd.DataFrame()\n",
    "        new_df[col] = df[col].apply(lambda x: eval(x))\n",
    "        add_cols_df = pd.json_normalize(new_df[col])\n",
    "        df = pd.concat([df, add_cols_df], axis=1)\n",
    "    \n",
    "    # Tags extraction\n",
    "    \n",
    "    df[\"tags\"] = df[\"tags\"].apply(lambda x: eval(x))\n",
    "    df['tagWebTitle'] = df['tags'].map(lambda x:[i['webTitle'] for i in x])\n",
    "    df['tagId'] = df['tags'].map(lambda x:[i['id'] for i in x])\n",
    "    df = df.drop(columns=\"tags\")\n",
    "    return df.drop(columns=dict_cols)"
   ]
  },
  {
   "cell_type": "markdown",
   "id": "d54d0e78-301b-4247-951e-e9dae07e59ba",
   "metadata": {},
   "source": [
    "### Remove duplicates"
   ]
  },
  {
   "cell_type": "code",
   "execution_count": 6,
   "id": "8453c0be-e46e-4dde-b8c4-449bb1c8738a",
   "metadata": {},
   "outputs": [],
   "source": [
    "@log_step\n",
    "def remove_duplicates(df):\n",
    "        return df.drop_duplicates()"
   ]
  },
  {
   "cell_type": "markdown",
   "id": "cfb609d4",
   "metadata": {},
   "source": [
    "### Missing Values"
   ]
  },
  {
   "cell_type": "code",
   "execution_count": 7,
   "id": "3f833e4d",
   "metadata": {},
   "outputs": [],
   "source": [
    "@log_step\n",
    "def missing_values(df):\n",
    "    \n",
    "    return df"
   ]
  },
  {
   "cell_type": "markdown",
   "id": "c7019c19",
   "metadata": {},
   "source": [
    "### Adjust data types"
   ]
  },
  {
   "cell_type": "code",
   "execution_count": 8,
   "id": "b9cef212",
   "metadata": {},
   "outputs": [],
   "source": [
    "@log_step\n",
    "def adjust_data_types(df):\n",
    "       \n",
    "   # Strings\n",
    "   df[\"id\"] = df[\"id\"].astype(\"string\")\n",
    "   df[\"sectionName\"] = df[\"sectionName\"].astype(\"string\")\n",
    "   df[\"type\"] = df[\"type\"].astype(\"string\")\n",
    "   df[\"webTitle\"] = df[\"webTitle\"].astype(\"string\")\n",
    "   df[\"pillarName\"] = df[\"pillarName\"].astype(\"string\")\n",
    "   df[\"headline\"] = df[\"headline\"].astype(\"string\")\n",
    "   df[\"bodyText\"] = df[\"bodyText\"].astype(\"string\")\n",
    "   \n",
    "   # Numerical\n",
    "   df[\"charCount\"] = df[\"charCount\"].astype(\"int\")\n",
    "\n",
    "\n",
    "   #Categorical\n",
    "   df[\"productionOffice\"] = df[\"productionOffice\"].astype(\"category\")\n",
    "   \n",
    "\n",
    "   # boolean\n",
    "   df[\"isLive\"] = df[\"isLive\"].map({\"true\": True, \"false\": False})\n",
    "   df[\"syndicatable\"] = df[\"syndicatable\"].map({\"true\": True, \"false\": False})\n",
    "   df[\"commentable\"] = df[\"commentable\"].map({\"true\": True, np.nan: False})\n",
    "   \n",
    "   # Datetimes\n",
    "   df[\"webPublicationDate\"] = pd.to_datetime(df[\"webPublicationDate\"])\n",
    "   df[\"firstPublicationDate\"] = pd.to_datetime(df[\"firstPublicationDate\"])\n",
    "   \n",
    "   return df"
   ]
  },
  {
   "cell_type": "markdown",
   "id": "e2474140",
   "metadata": {},
   "source": [
    "### Drop Columns"
   ]
  },
  {
   "cell_type": "code",
   "execution_count": 9,
   "id": "71232642",
   "metadata": {},
   "outputs": [],
   "source": [
    "@log_step\n",
    "def drop_columns(df):\n",
    "    cols=[\"webUrl\",\"apiUrl\", \"isHosted\", \"pillarId\"]\n",
    "    return df.drop(columns=cols)\n",
    "\n",
    "# @log_step\n",
    "# def drop_columns(df):\n",
    "#     cols =[\n",
    "#         \"trailText\",\n",
    "#         \"main\",\n",
    "#         \"body\",\n",
    "#         \"webUrl\",\n",
    "#         \"apiUrl\",\n",
    "#         \"standfirst\",\n",
    "#         \"section\",\n",
    "#         #\"tags\",\n",
    "#         \"newspaperPageNumber\",\n",
    "#         \"newspaperEditionDate\",\n",
    "#         \"byline\",\n",
    "#         \"pillarId\",\n",
    "#         \"bylineHtml\",\n",
    "#         \"displayHint\",\n",
    "#         \"commentCloseDate\",\n",
    "#         \"isInappropriateForSponsorship\",\n",
    "#         \"isPremoderated\",\n",
    "#         \"liveBloggingNow\",\n",
    "#         \"publication\",\n",
    "#         \"shouldHideAdverts\",\n",
    "#         \"shortUrl\",\n",
    "#         \"showInRelatedContent\",\n",
    "#         \"thumbnail\",\n",
    "#         \"shouldHideReaderRevenue\",\n",
    "#         \"lastModified\",\n",
    "#         \"legallySensitive\",\n",
    "#         \"lang\",\n",
    "#         \"showAffiliateLinks\",\n",
    "#         \"wordcount\",\n",
    "#         \"sensitive\",\n",
    "#         \"sectionId\",\n",
    "#         \"subscriptionDatabases\",\n",
    "#         \"developerCommunity\",\n",
    "#         \"contributorBio\",\n",
    "#         \"scheduledPublicationDate\"\n",
    "#         ]\n",
    "#     return df.drop(columns=cols)"
   ]
  },
  {
   "cell_type": "markdown",
   "id": "163e5fd5",
   "metadata": {},
   "source": [
    "### CSV"
   ]
  },
  {
   "cell_type": "code",
   "execution_count": 11,
   "id": "120b5445",
   "metadata": {},
   "outputs": [],
   "source": [
    "@log_step\n",
    "def create_csv(df):\n",
    "    df.to_csv(f\"../data/{cleaned_file_name}.csv\", index = False, header=True)\n",
    "    return df\n",
    "\n",
    "# @log_step\n",
    "# def create_csv(df):\n",
    "#     df.to_csv(f\"../data/{file_name}_clean.csv.zip\", index=False, compression=\"zip\")\n",
    "#     df.info()\n",
    "#     return df\n"
   ]
  },
  {
   "cell_type": "markdown",
   "id": "75b48789-4011-43c0-b453-ccd8003b2bfb",
   "metadata": {},
   "source": [
    "## Run Cleaning"
   ]
  },
  {
   "cell_type": "code",
   "execution_count": 12,
   "id": "17228ead-fc86-4dc6-8707-500ea870ef17",
   "metadata": {},
   "outputs": [
    {
     "name": "stdout",
     "output_type": "stream",
     "text": [
      "start_pipeline:\n",
      " shape=(32726, 17) took 0:00:00.005984s\n",
      "\n",
      "remove_duplicates:\n",
      " shape=(32713, 17) took 0:00:05.866353s\n",
      "\n",
      "add_columns:\n",
      " shape=(32713, 17) took 0:00:00s\n",
      "\n",
      "drop_columns:\n",
      " shape=(32713, 13) took 0:00:00.005984s\n",
      "\n",
      "adjust_data_types:\n",
      " shape=(32713, 13) took 0:00:00.048975s\n",
      "\n",
      "create_csv:\n",
      " shape=(32713, 13) took 0:00:35.377413s\n",
      "\n"
     ]
    }
   ],
   "source": [
    "articles = (\n",
    "init_df\n",
    "    .pipe(init_pipeline)       \n",
    "    .pipe(remove_duplicates)    \n",
    "    .pipe(unfold_columns)       \n",
    "    .pipe(drop_columns)          \n",
    "    .pipe(adjust_data_types)    \n",
    "    .pipe(missing_values)    \n",
    "    .pipe(create_csv)      \n",
    ")\n"
   ]
  },
  {
   "cell_type": "code",
   "execution_count": null,
   "id": "426a473d",
   "metadata": {},
   "outputs": [],
   "source": [
    "articles.isna().sum()"
   ]
  },
  {
   "cell_type": "code",
   "execution_count": 13,
   "id": "a7ca86d7",
   "metadata": {},
   "outputs": [
    {
     "name": "stdout",
     "output_type": "stream",
     "text": [
      "<class 'pandas.core.frame.DataFrame'>\n",
      "Int64Index: 32713 entries, 0 to 32725\n",
      "Data columns (total 13 columns):\n",
      " #   Column              Non-Null Count  Dtype              \n",
      "---  ------              --------------  -----              \n",
      " 0   article_id          32713 non-null  string             \n",
      " 1   article_type        32713 non-null  string             \n",
      " 2   sectionId           32713 non-null  object             \n",
      " 3   sectionName         32713 non-null  object             \n",
      " 4   webPublicationDate  32713 non-null  datetime64[ns, UTC]\n",
      " 5   webTitle            32713 non-null  object             \n",
      " 6   fields              32713 non-null  object             \n",
      " 7   tags                32713 non-null  object             \n",
      " 8   references          32713 non-null  object             \n",
      " 9   blocks              32713 non-null  object             \n",
      " 10  rights              32713 non-null  object             \n",
      " 11  section             32695 non-null  object             \n",
      " 12  pillarName          32472 non-null  object             \n",
      "dtypes: datetime64[ns, UTC](1), object(10), string(2)\n",
      "memory usage: 3.5+ MB\n"
     ]
    }
   ],
   "source": [
    "articles.info()"
   ]
  },
  {
   "cell_type": "code",
   "execution_count": 14,
   "id": "b4d3a04c",
   "metadata": {},
   "outputs": [
    {
     "data": {
      "text/html": [
       "<div>\n",
       "<style scoped>\n",
       "    .dataframe tbody tr th:only-of-type {\n",
       "        vertical-align: middle;\n",
       "    }\n",
       "\n",
       "    .dataframe tbody tr th {\n",
       "        vertical-align: top;\n",
       "    }\n",
       "\n",
       "    .dataframe thead th {\n",
       "        text-align: right;\n",
       "    }\n",
       "</style>\n",
       "<table border=\"1\" class=\"dataframe\">\n",
       "  <thead>\n",
       "    <tr style=\"text-align: right;\">\n",
       "      <th></th>\n",
       "      <th>article_id</th>\n",
       "      <th>article_type</th>\n",
       "      <th>sectionId</th>\n",
       "      <th>sectionName</th>\n",
       "      <th>webPublicationDate</th>\n",
       "      <th>webTitle</th>\n",
       "      <th>fields</th>\n",
       "      <th>tags</th>\n",
       "      <th>references</th>\n",
       "      <th>blocks</th>\n",
       "      <th>rights</th>\n",
       "      <th>section</th>\n",
       "      <th>pillarName</th>\n",
       "    </tr>\n",
       "  </thead>\n",
       "  <tbody>\n",
       "    <tr>\n",
       "      <th>2212</th>\n",
       "      <td>sport/2022/may/21/emma-raducanu-ready-for-deja...</td>\n",
       "      <td>article</td>\n",
       "      <td>sport</td>\n",
       "      <td>Sport</td>\n",
       "      <td>2022-05-21 21:30:30+00:00</td>\n",
       "      <td>Emma Raducanu ready for deja vu against qualif...</td>\n",
       "      <td>{'headline': 'Emma Raducanu ready for deja vu ...</td>\n",
       "      <td>[{'id': 'sport/emma-raducanu', 'type': 'keywor...</td>\n",
       "      <td>[{'id': 'rich-link/https://www.theguardian.com...</td>\n",
       "      <td>{'main': {'id': '6288f7df8f08a8124b1507ef', 'b...</td>\n",
       "      <td>{'syndicatable': 'true', 'subscriptionDatabase...</td>\n",
       "      <td>{'id': 'sport', 'webTitle': 'Sport', 'webUrl':...</td>\n",
       "      <td>Sport</td>\n",
       "    </tr>\n",
       "    <tr>\n",
       "      <th>30292</th>\n",
       "      <td>science/2022/jan/13/letter-richard-leakey-obit...</td>\n",
       "      <td>article</td>\n",
       "      <td>science</td>\n",
       "      <td>Science</td>\n",
       "      <td>2022-01-13 15:26:17+00:00</td>\n",
       "      <td>Letter: Richard Leakey obituary</td>\n",
       "      <td>{'headline': 'Letter: Richard Leakey obituary'...</td>\n",
       "      <td>[{'id': 'science/evolution', 'type': 'keyword'...</td>\n",
       "      <td>[]</td>\n",
       "      <td>{'main': {'id': '61e022378f085adc21a85164', 'b...</td>\n",
       "      <td>{'syndicatable': 'true', 'subscriptionDatabase...</td>\n",
       "      <td>{'id': 'science', 'webTitle': 'Science', 'webU...</td>\n",
       "      <td>News</td>\n",
       "    </tr>\n",
       "    <tr>\n",
       "      <th>17198</th>\n",
       "      <td>money/2022/mar/14/uk-children-raise-ukraine-fu...</td>\n",
       "      <td>article</td>\n",
       "      <td>money</td>\n",
       "      <td>Money</td>\n",
       "      <td>2022-03-14 11:29:06+00:00</td>\n",
       "      <td>UK children raise funds for Ukraine with hairc...</td>\n",
       "      <td>{'headline': 'UK children raise funds for Ukra...</td>\n",
       "      <td>[{'id': 'money/charitable-giving', 'type': 'ke...</td>\n",
       "      <td>[{'id': 'rich-link/https://www.theguardian.com...</td>\n",
       "      <td>{'main': {'id': '622f22458f08527b368564c9', 'b...</td>\n",
       "      <td>{'syndicatable': 'true', 'subscriptionDatabase...</td>\n",
       "      <td>{'id': 'money', 'webTitle': 'Money', 'webUrl':...</td>\n",
       "      <td>Lifestyle</td>\n",
       "    </tr>\n",
       "    <tr>\n",
       "      <th>5052</th>\n",
       "      <td>us-news/2022/may/09/mississippi-governor-contr...</td>\n",
       "      <td>article</td>\n",
       "      <td>us-news</td>\n",
       "      <td>US news</td>\n",
       "      <td>2022-05-09 15:36:55+00:00</td>\n",
       "      <td>Mississippi governor refuses to rule out banni...</td>\n",
       "      <td>{'headline': 'Mississippi governor refuses to ...</td>\n",
       "      <td>[{'id': 'us-news/mississippi', 'type': 'keywor...</td>\n",
       "      <td>[]</td>\n",
       "      <td>{'main': {'id': '627933098f084fe9084bc699', 'b...</td>\n",
       "      <td>{'syndicatable': 'true', 'subscriptionDatabase...</td>\n",
       "      <td>{'id': 'us-news', 'webTitle': 'US news', 'webU...</td>\n",
       "      <td>News</td>\n",
       "    </tr>\n",
       "    <tr>\n",
       "      <th>30350</th>\n",
       "      <td>sport/2022/jan/13/jim-harbaugh-nfl-comeback-ru...</td>\n",
       "      <td>article</td>\n",
       "      <td>sport</td>\n",
       "      <td>Sport</td>\n",
       "      <td>2022-01-13 10:30:29+00:00</td>\n",
       "      <td>Jim Harbaugh’s likely NFL return shows college...</td>\n",
       "      <td>{'headline': 'Jim Harbaugh’s likely NFL return...</td>\n",
       "      <td>[{'id': 'sport/nfl', 'type': 'keyword', 'secti...</td>\n",
       "      <td>[]</td>\n",
       "      <td>{'main': {'id': '61dfc16e8f08b14fee0b3582', 'b...</td>\n",
       "      <td>{'syndicatable': 'true', 'subscriptionDatabase...</td>\n",
       "      <td>{'id': 'sport', 'webTitle': 'Sport', 'webUrl':...</td>\n",
       "      <td>Sport</td>\n",
       "    </tr>\n",
       "  </tbody>\n",
       "</table>\n",
       "</div>"
      ],
      "text/plain": [
       "                                              article_id article_type  \\\n",
       "2212   sport/2022/may/21/emma-raducanu-ready-for-deja...      article   \n",
       "30292  science/2022/jan/13/letter-richard-leakey-obit...      article   \n",
       "17198  money/2022/mar/14/uk-children-raise-ukraine-fu...      article   \n",
       "5052   us-news/2022/may/09/mississippi-governor-contr...      article   \n",
       "30350  sport/2022/jan/13/jim-harbaugh-nfl-comeback-ru...      article   \n",
       "\n",
       "      sectionId sectionName        webPublicationDate  \\\n",
       "2212      sport       Sport 2022-05-21 21:30:30+00:00   \n",
       "30292   science     Science 2022-01-13 15:26:17+00:00   \n",
       "17198     money       Money 2022-03-14 11:29:06+00:00   \n",
       "5052    us-news     US news 2022-05-09 15:36:55+00:00   \n",
       "30350     sport       Sport 2022-01-13 10:30:29+00:00   \n",
       "\n",
       "                                                webTitle  \\\n",
       "2212   Emma Raducanu ready for deja vu against qualif...   \n",
       "30292                    Letter: Richard Leakey obituary   \n",
       "17198  UK children raise funds for Ukraine with hairc...   \n",
       "5052   Mississippi governor refuses to rule out banni...   \n",
       "30350  Jim Harbaugh’s likely NFL return shows college...   \n",
       "\n",
       "                                                  fields  \\\n",
       "2212   {'headline': 'Emma Raducanu ready for deja vu ...   \n",
       "30292  {'headline': 'Letter: Richard Leakey obituary'...   \n",
       "17198  {'headline': 'UK children raise funds for Ukra...   \n",
       "5052   {'headline': 'Mississippi governor refuses to ...   \n",
       "30350  {'headline': 'Jim Harbaugh’s likely NFL return...   \n",
       "\n",
       "                                                    tags  \\\n",
       "2212   [{'id': 'sport/emma-raducanu', 'type': 'keywor...   \n",
       "30292  [{'id': 'science/evolution', 'type': 'keyword'...   \n",
       "17198  [{'id': 'money/charitable-giving', 'type': 'ke...   \n",
       "5052   [{'id': 'us-news/mississippi', 'type': 'keywor...   \n",
       "30350  [{'id': 'sport/nfl', 'type': 'keyword', 'secti...   \n",
       "\n",
       "                                              references  \\\n",
       "2212   [{'id': 'rich-link/https://www.theguardian.com...   \n",
       "30292                                                 []   \n",
       "17198  [{'id': 'rich-link/https://www.theguardian.com...   \n",
       "5052                                                  []   \n",
       "30350                                                 []   \n",
       "\n",
       "                                                  blocks  \\\n",
       "2212   {'main': {'id': '6288f7df8f08a8124b1507ef', 'b...   \n",
       "30292  {'main': {'id': '61e022378f085adc21a85164', 'b...   \n",
       "17198  {'main': {'id': '622f22458f08527b368564c9', 'b...   \n",
       "5052   {'main': {'id': '627933098f084fe9084bc699', 'b...   \n",
       "30350  {'main': {'id': '61dfc16e8f08b14fee0b3582', 'b...   \n",
       "\n",
       "                                                  rights  \\\n",
       "2212   {'syndicatable': 'true', 'subscriptionDatabase...   \n",
       "30292  {'syndicatable': 'true', 'subscriptionDatabase...   \n",
       "17198  {'syndicatable': 'true', 'subscriptionDatabase...   \n",
       "5052   {'syndicatable': 'true', 'subscriptionDatabase...   \n",
       "30350  {'syndicatable': 'true', 'subscriptionDatabase...   \n",
       "\n",
       "                                                 section pillarName  \n",
       "2212   {'id': 'sport', 'webTitle': 'Sport', 'webUrl':...      Sport  \n",
       "30292  {'id': 'science', 'webTitle': 'Science', 'webU...       News  \n",
       "17198  {'id': 'money', 'webTitle': 'Money', 'webUrl':...  Lifestyle  \n",
       "5052   {'id': 'us-news', 'webTitle': 'US news', 'webU...       News  \n",
       "30350  {'id': 'sport', 'webTitle': 'Sport', 'webUrl':...      Sport  "
      ]
     },
     "execution_count": 14,
     "metadata": {},
     "output_type": "execute_result"
    }
   ],
   "source": [
    "articles.sample(5)"
   ]
  },
  {
   "cell_type": "code",
   "execution_count": 15,
   "id": "6b396439",
   "metadata": {},
   "outputs": [
    {
     "name": "stderr",
     "output_type": "stream",
     "text": [
      "C:\\Users\\ENRY\\AppData\\Local\\Temp/ipykernel_29440/271690398.py:1: FutureWarning: Treating datetime data as categorical rather than numeric in `.describe` is deprecated and will be removed in a future version of pandas. Specify `datetime_is_numeric=True` to silence this warning and adopt the future behavior now.\n",
      "  articles.webPublicationDate.describe()\n"
     ]
    },
    {
     "data": {
      "text/plain": [
       "count                         32713\n",
       "unique                        25665\n",
       "top       2022-03-06 06:00:45+00:00\n",
       "freq                              9\n",
       "first     2022-01-01 00:00:33+00:00\n",
       "last      2022-05-31 23:44:57+00:00\n",
       "Name: webPublicationDate, dtype: object"
      ]
     },
     "execution_count": 15,
     "metadata": {},
     "output_type": "execute_result"
    }
   ],
   "source": [
    "articles.webPublicationDate.describe()"
   ]
  },
  {
   "cell_type": "code",
   "execution_count": null,
   "id": "5a255cb6",
   "metadata": {},
   "outputs": [],
   "source": [
    "# test = pd.read_csv(f\"../data/{file_name}.csv.zip\", compression=\"zip\")"
   ]
  },
  {
   "cell_type": "code",
   "execution_count": null,
   "id": "19460384",
   "metadata": {},
   "outputs": [],
   "source": [
    "# test[\"tags\"] = test[\"tags\"].apply(lambda x: eval(x))\n",
    "# test['tagWebTitle'] = test['tags'].map(lambda x:[i['webTitle'] for i in x])\n",
    "# test['tagId'] = test['tags'].map(lambda x:[i['id'] for i in x])\n",
    "# test = test.drop(columns=\"tags\")\n",
    "# test.info()"
   ]
  }
 ],
 "metadata": {
  "interpreter": {
   "hash": "8f2a1bf0a39e2f1e7e907b121c089fc8a18a376157258510e708cd489279304d"
  },
  "kernelspec": {
   "display_name": "Python 3.9.7 ('base')",
   "language": "python",
   "name": "python3"
  },
  "language_info": {
   "codemirror_mode": {
    "name": "ipython",
    "version": 3
   },
   "file_extension": ".py",
   "mimetype": "text/x-python",
   "name": "python",
   "nbconvert_exporter": "python",
   "pygments_lexer": "ipython3",
   "version": "3.9.7"
  },
  "toc-showmarkdowntxt": false
 },
 "nbformat": 4,
 "nbformat_minor": 5
}
